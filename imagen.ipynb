{
 "cells": [
  {
   "cell_type": "code",
   "execution_count": 1,
   "id": "4f6ac44a",
   "metadata": {},
   "outputs": [
    {
     "name": "stdout",
     "output_type": "stream",
     "text": [
      "Imagen guardada como 'tarjeta_data_science.png'\n"
     ]
    }
   ],
   "source": [
    "from PIL import Image, ImageDraw, ImageFont\n",
    "\n",
    "# Crear imagen PNG similar al SVG de gráfico de barras para la tarjeta\n",
    "width, height = 550, 180\n",
    "img = Image.new('RGB', (width, height), color='#f5f7fa')\n",
    "draw = ImageDraw.Draw(img)\n",
    "\n",
    "# Cargar una fuente simple\n",
    "try:\n",
    "    font_title = ImageFont.truetype(\"arial.ttf\", 30)\n",
    "    font_subtitle = ImageFont.truetype(\"arial.ttf\", 20)\n",
    "    font_text = ImageFont.truetype(\"arial.ttf\", 16)\n",
    "    font_label = ImageFont.truetype(\"arial.ttf\", 12)\n",
    "except IOError:\n",
    "    # En caso de no tener arial, cargar fuente por defecto\n",
    "    font_title = ImageFont.load_default()\n",
    "    font_subtitle = ImageFont.load_default()\n",
    "    font_text = ImageFont.load_default()\n",
    "    font_label = ImageFont.load_default()\n",
    "\n",
    "# Texto\n",
    "draw.text((30, 40), \"Ely Portillo\", fill=\"#2c3e50\", font=font_title)\n",
    "draw.text((30, 80), \"Data Scientist\", fill=\"#34495e\", font=font_subtitle)\n",
    "draw.text((30, 110), \"Python | SQL | Machine Learning\", fill=\"#7f8c8d\", font=font_text)\n",
    "\n",
    "# Dibujar ejes\n",
    "draw.line((350, 140, 520, 140), fill=\"#34495e\", width=2)  # eje x\n",
    "draw.line((350, 60, 350, 140), fill=\"#34495e\", width=2)   # eje y\n",
    "\n",
    "# Dibujar barras\n",
    "bars = [\n",
    "    (365, 110, 30, 30, \"#2980b9\"),\n",
    "    (410, 90, 30, 50, \"#3498db\"),\n",
    "    (455, 70, 30, 70, \"#5dade2\"),\n",
    "    (500, 80, 30, 60, \"#85c1e9\"),\n",
    "]\n",
    "for x, y, w, h, color in bars:\n",
    "    draw.rounded_rectangle([x, y, x+w, y+h], radius=5, fill=color)\n",
    "\n",
    "# Etiquetas\n",
    "labels = [\"Python\", \"SQL\", \"ML\", \"Data\"]\n",
    "for i, label in enumerate(labels):\n",
    "    draw.text((365 + i*45, 145), label, fill=\"#34495e\", font=font_label)\n",
    "\n",
    "# Guardar imagen\n",
    "img.save(\"tarjeta_data_science.png\")\n",
    "print(\"Imagen guardada como 'tarjeta_data_science.png'\")\n",
    "\n"
   ]
  }
 ],
 "metadata": {
  "kernelspec": {
   "display_name": "base",
   "language": "python",
   "name": "python3"
  },
  "language_info": {
   "codemirror_mode": {
    "name": "ipython",
    "version": 3
   },
   "file_extension": ".py",
   "mimetype": "text/x-python",
   "name": "python",
   "nbconvert_exporter": "python",
   "pygments_lexer": "ipython3",
   "version": "3.12.7"
  }
 },
 "nbformat": 4,
 "nbformat_minor": 5
}
